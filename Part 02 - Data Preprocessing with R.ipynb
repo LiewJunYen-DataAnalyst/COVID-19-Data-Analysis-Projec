{
 "cells": [
  {
   "cell_type": "markdown",
   "id": "f5c1ee83",
   "metadata": {},
   "source": [
    "# Part 02 - Data Preprocessing with R"
   ]
  },
  {
   "cell_type": "markdown",
   "id": "fc13f578",
   "metadata": {},
   "source": [
    "#### by Liew Jun Yen"
   ]
  },
  {
   "cell_type": "markdown",
   "id": "db9f9fd4",
   "metadata": {},
   "source": [
    "## Packages Installation"
   ]
  },
  {
   "cell_type": "code",
   "execution_count": 7,
   "id": "98c492fb",
   "metadata": {
    "collapsed": true
   },
   "outputs": [
    {
     "name": "stderr",
     "output_type": "stream",
     "text": [
      "also installing the dependencies 'cli', 'lifecycle', 'pillar', 'rlang', 'tibble', 'tidyselect', 'vctrs'\n",
      "\n"
     ]
    },
    {
     "name": "stdout",
     "output_type": "stream",
     "text": [
      "\n",
      "  There are binary versions available but the source versions are later:\n",
      "           binary source needs_compilation\n",
      "cli         2.5.0  3.6.1              TRUE\n",
      "lifecycle   1.0.0  1.0.3             FALSE\n",
      "pillar      1.6.0  1.9.0             FALSE\n",
      "rlang      0.4.11  1.1.1              TRUE\n",
      "tibble      3.1.1  3.2.1              TRUE\n",
      "tidyselect  1.1.1  1.2.0             FALSE\n",
      "vctrs       0.3.8  0.6.3              TRUE\n",
      "dplyr       1.0.6  1.1.2              TRUE\n",
      "\n",
      "  Binaries will be installed\n",
      "package 'cli' successfully unpacked and MD5 sums checked\n",
      "package 'rlang' successfully unpacked and MD5 sums checked\n"
     ]
    },
    {
     "name": "stderr",
     "output_type": "stream",
     "text": [
      "Warning message:\n",
      "\"cannot remove prior installation of package 'rlang'\"Warning message in file.copy(savedcopy, lib, recursive = TRUE):\n",
      "\"problem copying C:\\Users\\USER\\anaconda3\\Lib\\R\\library\\00LOCK\\rlang\\libs\\x64\\rlang.dll to C:\\Users\\USER\\anaconda3\\Lib\\R\\library\\rlang\\libs\\x64\\rlang.dll: Permission denied\"Warning message:\n",
      "\"restored 'rlang'\""
     ]
    },
    {
     "name": "stdout",
     "output_type": "stream",
     "text": [
      "package 'tibble' successfully unpacked and MD5 sums checked\n",
      "package 'vctrs' successfully unpacked and MD5 sums checked\n",
      "package 'dplyr' successfully unpacked and MD5 sums checked\n",
      "\n",
      "The downloaded binary packages are in\n",
      "\tC:\\Users\\USER\\AppData\\Local\\Temp\\RtmpSk94yJ\\downloaded_packages\n"
     ]
    },
    {
     "name": "stderr",
     "output_type": "stream",
     "text": [
      "installing the source packages 'lifecycle', 'pillar', 'tidyselect'\n",
      "\n",
      "Warning message in install.packages(\"dplyr\"):\n",
      "\"installation of package 'lifecycle' had non-zero exit status\"Warning message in install.packages(\"dplyr\"):\n",
      "\"installation of package 'pillar' had non-zero exit status\"Warning message in install.packages(\"dplyr\"):\n",
      "\"installation of package 'tidyselect' had non-zero exit status\"Warning message:\n",
      "\"package 'dplyr' was built under R version 3.6.3\""
     ]
    },
    {
     "ename": "ERROR",
     "evalue": "Error: package or namespace load failed for 'dplyr' in loadNamespace(j <- i[[1L]], c(lib.loc, .libPaths()), versionCheck = vI[[j]]):\n there is no package called 'lifecycle'\n",
     "output_type": "error",
     "traceback": [
      "Error: package or namespace load failed for 'dplyr' in loadNamespace(j <- i[[1L]], c(lib.loc, .libPaths()), versionCheck = vI[[j]]):\n there is no package called 'lifecycle'\nTraceback:\n",
      "1. library(dplyr)",
      "2. tryCatch({\n .     attr(package, \"LibPath\") <- which.lib.loc\n .     ns <- loadNamespace(package, lib.loc)\n .     env <- attachNamespace(ns, pos = pos, deps, exclude, include.only)\n . }, error = function(e) {\n .     P <- if (!is.null(cc <- conditionCall(e))) \n .         paste(\" in\", deparse(cc)[1L])\n .     else \"\"\n .     msg <- gettextf(\"package or namespace load failed for %s%s:\\n %s\", \n .         sQuote(package), P, conditionMessage(e))\n .     if (logical.return) \n .         message(paste(\"Error:\", msg), domain = NA)\n .     else stop(msg, call. = FALSE, domain = NA)\n . })",
      "3. tryCatchList(expr, classes, parentenv, handlers)",
      "4. tryCatchOne(expr, names, parentenv, handlers[[1L]])",
      "5. value[[3L]](cond)",
      "6. stop(msg, call. = FALSE, domain = NA)"
     ]
    }
   ],
   "source": [
    "install.packages(\"dplyr\")"
   ]
  },
  {
   "cell_type": "code",
   "execution_count": 10,
   "id": "c1c58396",
   "metadata": {
    "collapsed": true
   },
   "outputs": [
    {
     "name": "stderr",
     "output_type": "stream",
     "text": [
      "Warning message:\n",
      "\"package 'dplyr' was built under R version 3.6.3\""
     ]
    },
    {
     "ename": "ERROR",
     "evalue": "Error: package or namespace load failed for 'dplyr' in loadNamespace(j <- i[[1L]], c(lib.loc, .libPaths()), versionCheck = vI[[j]]):\n there is no package called 'lifecycle'\n",
     "output_type": "error",
     "traceback": [
      "Error: package or namespace load failed for 'dplyr' in loadNamespace(j <- i[[1L]], c(lib.loc, .libPaths()), versionCheck = vI[[j]]):\n there is no package called 'lifecycle'\nTraceback:\n",
      "1. library(dplyr)",
      "2. tryCatch({\n .     attr(package, \"LibPath\") <- which.lib.loc\n .     ns <- loadNamespace(package, lib.loc)\n .     env <- attachNamespace(ns, pos = pos, deps, exclude, include.only)\n . }, error = function(e) {\n .     P <- if (!is.null(cc <- conditionCall(e))) \n .         paste(\" in\", deparse(cc)[1L])\n .     else \"\"\n .     msg <- gettextf(\"package or namespace load failed for %s%s:\\n %s\", \n .         sQuote(package), P, conditionMessage(e))\n .     if (logical.return) \n .         message(paste(\"Error:\", msg), domain = NA)\n .     else stop(msg, call. = FALSE, domain = NA)\n . })",
      "3. tryCatchList(expr, classes, parentenv, handlers)",
      "4. tryCatchOne(expr, names, parentenv, handlers[[1L]])",
      "5. value[[3L]](cond)",
      "6. stop(msg, call. = FALSE, domain = NA)"
     ]
    }
   ],
   "source": [
    "library(dplyr)"
   ]
  },
  {
   "cell_type": "code",
   "execution_count": 4,
   "id": "6e996d5e",
   "metadata": {},
   "outputs": [],
   "source": [
    "cov_data <- read.csv(\"C:\\\\Users\\\\USER\\\\Desktop\\\\Portfolio Project\\\\owid-covid-data.csv\",header=TRUE)"
   ]
  },
  {
   "cell_type": "markdown",
   "id": "43f5ea57",
   "metadata": {},
   "source": [
    "## 2.1 Data Reduction"
   ]
  },
  {
   "cell_type": "code",
   "execution_count": 5,
   "id": "944089af",
   "metadata": {},
   "outputs": [],
   "source": [
    "# [Feature Selecction]\n",
    "# Remove unwanted columns from cov_data dataset\n",
    "cov_data <- subset(cov_data, select = -c(iso_code, new_cases_smoothed, total_deaths, new_deaths_smoothed, total_cases_per_million, new_cases_per_million,\n",
    "                                         new_cases_smoothed_per_million, total_deaths_per_million, new_deaths_per_million, new_deaths_smoothed_per_million, icu_patients, icu_patients_per_million,\n",
    "                                         hosp_patients, hosp_patients_per_million, weekly_icu_admissions, weekly_icu_admissions_per_million, weekly_hosp_admissions, weekly_hosp_admissions_per_million,\n",
    "                                         total_tests, total_tests_per_thousand, new_tests_per_thousand, new_tests_smoothed, new_tests_smoothed_per_thousand, tests_units,\n",
    "                                         total_vaccinations, new_vaccinations_smoothed, total_vaccinations_per_hundred, people_vaccinated_per_hundred, people_fully_vaccinated_per_hundred,\n",
    "                                         total_boosters_per_hundred, new_vaccinations_smoothed_per_million, new_people_vaccinated_smoothed, new_people_vaccinated_smoothed_per_hundred, excess_mortality_cumulative_absolute,\n",
    "                                         excess_mortality_cumulative, excess_mortality, excess_mortality_cumulative_per_million))"
   ]
  },
  {
   "cell_type": "markdown",
   "id": "730782bd",
   "metadata": {},
   "source": [
    "## 2.1 Data Cleaning"
   ]
  },
  {
   "cell_type": "code",
   "execution_count": 11,
   "id": "463bc056",
   "metadata": {
    "collapsed": true
   },
   "outputs": [
    {
     "ename": "ERROR",
     "evalue": "Error in cov_data %>% mutate(total_cases = coalesce(total_cases, 0), new_cases = coalesce(new_cases, : could not find function \"%>%\"\n",
     "output_type": "error",
     "traceback": [
      "Error in cov_data %>% mutate(total_cases = coalesce(total_cases, 0), new_cases = coalesce(new_cases, : could not find function \"%>%\"\nTraceback:\n"
     ]
    }
   ],
   "source": [
    "# Fill in missing values with 0 value\n",
    "cov_data <- cov_data %>%\n",
    "  mutate(total_cases = coalesce(total_cases, 0),\n",
    "         new_cases = coalesce(new_cases, 0),\n",
    "         new_deaths = coalesce(new_deaths, 0),\n",
    "         reproduction_rate = coalesce(reproduction_rate, 0),\n",
    "         new_tests = coalesce(new_tests, 0),\n",
    "         positive_rate = coalesce(positive_rate, 0),\n",
    "         tests_per_case = coalesce(tests_per_case, 0),\n",
    "         people_vaccinated = coalesce(people_vaccinated, 0),\n",
    "         people_fully_vaccinated = coalesce(people_fully_vaccinated, 0),\n",
    "         total_boosters = coalesce(total_boosters, 0),\n",
    "         new_vaccinations = coalesce(new_vaccinations, 0),\n",
    "         stringency_index = coalesce(stringency_index, 0),\n",
    "         population_density = coalesce(population_density, 0),\n",
    "         median_age = coalesce(median_age, 0),\n",
    "         aged_65_older = coalesce(aged_65_older, 0),\n",
    "         aged_70_older = coalesce(aged_70_older, 0),\n",
    "         gdp_per_capita = coalesce(gdp_per_capita, 0))"
   ]
  }
 ],
 "metadata": {
  "kernelspec": {
   "display_name": "R",
   "language": "R",
   "name": "ir"
  },
  "language_info": {
   "codemirror_mode": "r",
   "file_extension": ".r",
   "mimetype": "text/x-r-source",
   "name": "R",
   "pygments_lexer": "r",
   "version": "3.6.1"
  }
 },
 "nbformat": 4,
 "nbformat_minor": 5
}
