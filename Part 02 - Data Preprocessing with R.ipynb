{
 "cells": [
  {
   "cell_type": "markdown",
   "id": "2c69822d",
   "metadata": {},
   "source": [
    "# Part 02 - Data Preprocessing with R"
   ]
  },
  {
   "cell_type": "markdown",
   "id": "9cb0485c",
   "metadata": {},
   "source": [
    "#### by Liew Jun Yen"
   ]
  },
  {
   "cell_type": "markdown",
   "id": "42181207",
   "metadata": {},
   "source": [
    "## Packages Installation"
   ]
  },
  {
   "cell_type": "code",
   "execution_count": 1,
   "id": "d3669332",
   "metadata": {
    "scrolled": true
   },
   "outputs": [
    {
     "name": "stderr",
     "output_type": "stream",
     "text": [
      "also installing the dependencies 'pkgconfig', 'withr', 'generics', 'magrittr', 'R6', 'tibble', 'tidyselect'\n",
      "\n",
      "\n"
     ]
    },
    {
     "name": "stdout",
     "output_type": "stream",
     "text": [
      "package 'pkgconfig' successfully unpacked and MD5 sums checked\n",
      "package 'withr' successfully unpacked and MD5 sums checked\n",
      "package 'generics' successfully unpacked and MD5 sums checked\n",
      "package 'magrittr' successfully unpacked and MD5 sums checked\n",
      "package 'R6' successfully unpacked and MD5 sums checked\n",
      "package 'tibble' successfully unpacked and MD5 sums checked\n",
      "package 'tidyselect' successfully unpacked and MD5 sums checked\n",
      "package 'dplyr' successfully unpacked and MD5 sums checked\n",
      "\n",
      "The downloaded binary packages are in\n",
      "\tC:\\Users\\USER\\AppData\\Local\\Temp\\Rtmpkz5RoX\\downloaded_packages\n"
     ]
    }
   ],
   "source": [
    "install.packages(\"dplyr\") #manipulate, clean, summarize unstructured data"
   ]
  },
  {
   "cell_type": "code",
   "execution_count": 2,
   "id": "7ef43b3d",
   "metadata": {},
   "outputs": [],
   "source": [
    "cov_data <- read.csv(\"C:\\\\Users\\\\USER\\\\Desktop\\\\Portfolio Project\\\\owid-covid-data.csv\",header=TRUE)"
   ]
  },
  {
   "cell_type": "markdown",
   "id": "52e95558",
   "metadata": {},
   "source": [
    "## 2.1 Data Reduction"
   ]
  },
  {
   "cell_type": "code",
   "execution_count": 3,
   "id": "e74e384c",
   "metadata": {},
   "outputs": [],
   "source": [
    "# [Feature Selection]\n",
    "# Remove unwanted columns from cov_data dataset\n",
    "cov_data <- subset(cov_data, select = -c(iso_code, new_cases_smoothed, total_deaths, new_deaths_smoothed, \n",
    "                                         total_cases_per_million, new_cases_per_million,\n",
    "                                         new_cases_smoothed_per_million, total_deaths_per_million, \n",
    "                                         new_deaths_per_million, new_deaths_smoothed_per_million, icu_patients, \n",
    "                                         icu_patients_per_million, hosp_patients, hosp_patients_per_million, \n",
    "                                         weekly_icu_admissions, weekly_icu_admissions_per_million, \n",
    "                                         weekly_hosp_admissions, weekly_hosp_admissions_per_million, total_tests, \n",
    "                                         total_tests_per_thousand, new_tests_per_thousand, new_tests_smoothed, \n",
    "                                         new_tests_smoothed_per_thousand, tests_units, total_vaccinations, \n",
    "                                         new_vaccinations_smoothed, total_vaccinations_per_hundred, \n",
    "                                         people_vaccinated_per_hundred, people_fully_vaccinated_per_hundred,\n",
    "                                         total_boosters_per_hundred, new_vaccinations_smoothed_per_million, \n",
    "                                         new_people_vaccinated_smoothed, new_people_vaccinated_smoothed_per_hundred, \n",
    "                                         excess_mortality_cumulative_absolute, excess_mortality_cumulative, \n",
    "                                         excess_mortality, excess_mortality_cumulative_per_million))"
   ]
  },
  {
   "cell_type": "markdown",
   "id": "d5c3eeb7",
   "metadata": {},
   "source": [
    "## 2.2 Data Cleaning"
   ]
  },
  {
   "cell_type": "code",
   "execution_count": 5,
   "id": "a2d182cc",
   "metadata": {},
   "outputs": [],
   "source": [
    "# Fill in missing values with 0 value\n",
    "library(dplyr)\n",
    "\n",
    "cov_data <- cov_data %>%\n",
    "  mutate(total_cases = coalesce(total_cases, 0),\n",
    "         new_cases = coalesce(new_cases, 0),\n",
    "         new_deaths = coalesce(new_deaths, 0),\n",
    "         reproduction_rate = coalesce(reproduction_rate, 0),\n",
    "         new_tests = coalesce(new_tests, 0),\n",
    "         positive_rate = coalesce(positive_rate, 0),\n",
    "         tests_per_case = coalesce(tests_per_case, 0),\n",
    "         people_vaccinated = coalesce(people_vaccinated, 0),\n",
    "         people_fully_vaccinated = coalesce(people_fully_vaccinated, 0),\n",
    "         total_boosters = coalesce(total_boosters, 0),\n",
    "         new_vaccinations = coalesce(new_vaccinations, 0),\n",
    "         stringency_index = coalesce(stringency_index, 0),\n",
    "         population_density = coalesce(population_density, 0),\n",
    "         median_age = coalesce(median_age, 0),\n",
    "         aged_65_older = coalesce(aged_65_older, 0),\n",
    "         aged_70_older = coalesce(aged_70_older, 0),\n",
    "         gdp_per_capita = coalesce(gdp_per_capita, 0))"
   ]
  },
  {
   "cell_type": "code",
   "execution_count": 6,
   "id": "e3bd8811",
   "metadata": {},
   "outputs": [],
   "source": [
    "# Fill in missing values with mean value\n",
    "cov_data$extreme_poverty[is.na(cov_data$extreme_poverty)] <- mean(cov_data$extreme_poverty, na.rm = TRUE)\n",
    "cov_data$cardiovasc_death_rate[is.na(cov_data$cardiovasc_death_rate)] <- mean(cov_data$cardiovasc_death_rate, \n",
    "                                                                              na.rm = TRUE)\n",
    "cov_data$diabetes_prevalence[is.na(cov_data$diabetes_prevalence)] <- mean(cov_data$diabetes_prevalence, na.rm = TRUE)\n",
    "cov_data$female_smokers[is.na(cov_data$female_smokers)] <- mean(cov_data$female_smokers, na.rm = TRUE)\n",
    "cov_data$male_smokers[is.na(cov_data$male_smokers)] <- mean(cov_data$male_smokers, na.rm = TRUE)\n",
    "cov_data$handwashing_facilities[is.na(cov_data$handwashing_facilities)] <- mean(cov_data$handwashing_facilities, \n",
    "                                                                                na.rm = TRUE)\n",
    "cov_data$hospital_beds_per_thousand[is.na(cov_data$hospital_beds_per_thousand)] <- \n",
    "  mean(cov_data$hospital_beds_per_thousand, na.rm = TRUE)\n",
    "cov_data$life_expectancy[is.na(cov_data$life_expectancy)] <- mean(cov_data$life_expectancy, na.rm = TRUE)\n",
    "cov_data$human_development_index[is.na(cov_data$human_development_index)] <- mean(cov_data$human_development_index, \n",
    "                                                                                  na.rm = TRUE)"
   ]
  },
  {
   "cell_type": "markdown",
   "id": "a649abad",
   "metadata": {},
   "source": [
    "## 2.3 Data Transformation"
   ]
  },
  {
   "cell_type": "code",
   "execution_count": 7,
   "id": "fd9fe325",
   "metadata": {},
   "outputs": [],
   "source": [
    "# Rename Column\n",
    "names(cov_data)[names(cov_data) == 'location'] <- 'country'"
   ]
  },
  {
   "cell_type": "code",
   "execution_count": 8,
   "id": "5b8fc613",
   "metadata": {},
   "outputs": [],
   "source": [
    "# Data Types Conversion\n",
    "cov_data$date = as.Date(cov_data$date, \"%Y-%m-%d\")"
   ]
  }
 ],
 "metadata": {
  "kernelspec": {
   "display_name": "R",
   "language": "R",
   "name": "ir"
  },
  "language_info": {
   "codemirror_mode": "r",
   "file_extension": ".r",
   "mimetype": "text/x-r-source",
   "name": "R",
   "pygments_lexer": "r",
   "version": "4.1.3"
  }
 },
 "nbformat": 4,
 "nbformat_minor": 5
}
